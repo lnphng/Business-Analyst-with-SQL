{
 "cells": [
  {
   "cell_type": "markdown",
   "metadata": {},
   "source": [
    "## Using CASE \n",
    "learn how to use the CASE WHEN statement to \n",
    "- create categorical variables, \n",
    "- aggregate data into a single column with multiple filtering conditions, \n",
    "- and calculate counts and percentages."
   ]
  },
  {
   "cell_type": "code",
   "execution_count": 1,
   "metadata": {},
   "outputs": [
    {
     "data": {
      "text/plain": [
       "[('Country',),\n",
       " ('League',),\n",
       " ('Match',),\n",
       " ('Player',),\n",
       " ('Player_Attributes',),\n",
       " ('Team',),\n",
       " ('Team_Attributes',),\n",
       " ('sqlite_sequence',)]"
      ]
     },
     "execution_count": 1,
     "metadata": {},
     "output_type": "execute_result"
    }
   ],
   "source": [
    "import pandas as pd\n",
    "import sqlite3\n",
    "%reload_ext sql\n",
    "%sql sqlite:///database.sqlite\n",
    "\n",
    "con=sqlite3.connect(\"database.sqlite\")\n",
    "mycur = con.cursor()\n",
    "mycur.execute(\"SELECT name FROM sqlite_master WHERE type='table' ORDER BY name;\")\n",
    "available_table=(mycur.fetchall())\n",
    "con.close() \n",
    "available_table\n"
   ]
  },
  {
   "cell_type": "code",
   "execution_count": 2,
   "metadata": {
    "scrolled": false
   },
   "outputs": [
    {
     "name": "stdout",
     "output_type": "stream",
     "text": [
      " * sqlite:///database.sqlite\n",
      "Done.\n"
     ]
    },
    {
     "data": {
      "text/html": [
       "<table>\n",
       "    <tr>\n",
       "        <th>id</th>\n",
       "        <th>name</th>\n",
       "    </tr>\n",
       "    <tr>\n",
       "        <td>1</td>\n",
       "        <td>Belgium</td>\n",
       "    </tr>\n",
       "    <tr>\n",
       "        <td>1729</td>\n",
       "        <td>England</td>\n",
       "    </tr>\n",
       "    <tr>\n",
       "        <td>4769</td>\n",
       "        <td>France</td>\n",
       "    </tr>\n",
       "    <tr>\n",
       "        <td>7809</td>\n",
       "        <td>Germany</td>\n",
       "    </tr>\n",
       "    <tr>\n",
       "        <td>10257</td>\n",
       "        <td>Italy</td>\n",
       "    </tr>\n",
       "    <tr>\n",
       "        <td>13274</td>\n",
       "        <td>Netherlands</td>\n",
       "    </tr>\n",
       "    <tr>\n",
       "        <td>15722</td>\n",
       "        <td>Poland</td>\n",
       "    </tr>\n",
       "    <tr>\n",
       "        <td>17642</td>\n",
       "        <td>Portugal</td>\n",
       "    </tr>\n",
       "    <tr>\n",
       "        <td>19694</td>\n",
       "        <td>Scotland</td>\n",
       "    </tr>\n",
       "    <tr>\n",
       "        <td>21518</td>\n",
       "        <td>Spain</td>\n",
       "    </tr>\n",
       "    <tr>\n",
       "        <td>24558</td>\n",
       "        <td>Switzerland</td>\n",
       "    </tr>\n",
       "</table>"
      ],
      "text/plain": [
       "[(1, 'Belgium'),\n",
       " (1729, 'England'),\n",
       " (4769, 'France'),\n",
       " (7809, 'Germany'),\n",
       " (10257, 'Italy'),\n",
       " (13274, 'Netherlands'),\n",
       " (15722, 'Poland'),\n",
       " (17642, 'Portugal'),\n",
       " (19694, 'Scotland'),\n",
       " (21518, 'Spain'),\n",
       " (24558, 'Switzerland')]"
      ]
     },
     "execution_count": 2,
     "metadata": {},
     "output_type": "execute_result"
    }
   ],
   "source": [
    "%%sql\n",
    "SELECT * FROM Country"
   ]
  },
  {
   "cell_type": "code",
   "execution_count": 3,
   "metadata": {},
   "outputs": [
    {
     "name": "stdout",
     "output_type": "stream",
     "text": [
      " * sqlite:///database.sqlite\n",
      "Done.\n"
     ]
    },
    {
     "data": {
      "text/html": [
       "<table>\n",
       "    <tr>\n",
       "        <th>COUNT(DISTINCT team_long_name)</th>\n",
       "    </tr>\n",
       "    <tr>\n",
       "        <td>296</td>\n",
       "    </tr>\n",
       "</table>"
      ],
      "text/plain": [
       "[(296,)]"
      ]
     },
     "execution_count": 3,
     "metadata": {},
     "output_type": "execute_result"
    }
   ],
   "source": [
    "%%sql\n",
    "SELECT COUNT(DISTINCT team_long_name) FROM Team\n"
   ]
  },
  {
   "cell_type": "markdown",
   "metadata": {},
   "source": [
    "### CASE statements comparing column values"
   ]
  },
  {
   "cell_type": "code",
   "execution_count": 10,
   "metadata": {},
   "outputs": [
    {
     "name": "stdout",
     "output_type": "stream",
     "text": [
      " * sqlite:///database.sqlite\n",
      "Done.\n"
     ]
    },
    {
     "data": {
      "text/html": [
       "<table>\n",
       "    <tr>\n",
       "        <th>home_team</th>\n",
       "        <th>total_matches</th>\n",
       "    </tr>\n",
       "    <tr>\n",
       "        <td>FC Bayern Munich</td>\n",
       "        <td>136</td>\n",
       "    </tr>\n",
       "    <tr>\n",
       "        <td>FC Schalke 04</td>\n",
       "        <td>136</td>\n",
       "    </tr>\n",
       "    <tr>\n",
       "        <td>Other</td>\n",
       "        <td>2176</td>\n",
       "    </tr>\n",
       "</table>"
      ],
      "text/plain": [
       "[('FC Bayern Munich', 136), ('FC Schalke 04', 136), ('Other', 2176)]"
      ]
     },
     "execution_count": 10,
     "metadata": {},
     "output_type": "execute_result"
    }
   ],
   "source": [
    "%%sql\n",
    "SELECT \n",
    "    CASE WHEN hometeam_id = 10189 THEN 'FC Schalke 04'\n",
    "         WHEN hometeam_id = 9823 THEN 'FC Bayern Munich'\n",
    "         ELSE 'Other' END AS home_team,\n",
    "    COUNT(id) AS total_matches\n",
    "FROM Match\n",
    "WHERE country_id = 7809 -- Germany\n",
    "\n",
    "GROUP BY home_team;"
   ]
  },
  {
   "cell_type": "code",
   "execution_count": 40,
   "metadata": {},
   "outputs": [
    {
     "name": "stdout",
     "output_type": "stream",
     "text": [
      " * sqlite:///database.sqlite\n",
      "Done.\n"
     ]
    },
    {
     "data": {
      "text/html": [
       "<table>\n",
       "    <tr>\n",
       "        <th>date</th>\n",
       "        <th>opponent</th>\n",
       "        <th>outcome</th>\n",
       "    </tr>\n",
       "    <tr>\n",
       "        <td>2008-11-08 00:00:00</td>\n",
       "        <td>Real Valladolid</td>\n",
       "        <td>Barcelona win!</td>\n",
       "    </tr>\n",
       "    <tr>\n",
       "        <td>2008-11-23 00:00:00</td>\n",
       "        <td>Getafe CF</td>\n",
       "        <td>Tie</td>\n",
       "    </tr>\n",
       "    <tr>\n",
       "        <td>2008-12-06 00:00:00</td>\n",
       "        <td>Valencia CF</td>\n",
       "        <td>Barcelona win!</td>\n",
       "    </tr>\n",
       "    <tr>\n",
       "        <td>2008-12-13 00:00:00</td>\n",
       "        <td>Real Madrid CF</td>\n",
       "        <td>Barcelona win!</td>\n",
       "    </tr>\n",
       "    <tr>\n",
       "        <td>2009-01-03 00:00:00</td>\n",
       "        <td>RCD Mallorca</td>\n",
       "        <td>Barcelona win!</td>\n",
       "    </tr>\n",
       "    <tr>\n",
       "        <td>2009-01-17 00:00:00</td>\n",
       "        <td>RC Deportivo de La Coruña</td>\n",
       "        <td>Barcelona win!</td>\n",
       "    </tr>\n",
       "    <tr>\n",
       "        <td>2008-09-13 00:00:00</td>\n",
       "        <td>Racing Santander</td>\n",
       "        <td>Tie</td>\n",
       "    </tr>\n",
       "    <tr>\n",
       "        <td>2009-01-24 00:00:00</td>\n",
       "        <td>CD Numancia</td>\n",
       "        <td>Barcelona win!</td>\n",
       "    </tr>\n",
       "    <tr>\n",
       "        <td>2009-02-08 00:00:00</td>\n",
       "        <td>Real Sporting de Gijón</td>\n",
       "        <td>Barcelona win!</td>\n",
       "    </tr>\n",
       "    <tr>\n",
       "        <td>2009-02-21 00:00:00</td>\n",
       "        <td>RCD Espanyol</td>\n",
       "        <td>Barcelona loss :(</td>\n",
       "    </tr>\n",
       "</table>"
      ],
      "text/plain": [
       "[('2008-11-08 00:00:00', 'Real Valladolid', 'Barcelona win!'),\n",
       " ('2008-11-23 00:00:00', 'Getafe CF', 'Tie'),\n",
       " ('2008-12-06 00:00:00', 'Valencia CF', 'Barcelona win!'),\n",
       " ('2008-12-13 00:00:00', 'Real Madrid CF', 'Barcelona win!'),\n",
       " ('2009-01-03 00:00:00', 'RCD Mallorca', 'Barcelona win!'),\n",
       " ('2009-01-17 00:00:00', 'RC Deportivo de La Coruña', 'Barcelona win!'),\n",
       " ('2008-09-13 00:00:00', 'Racing Santander', 'Tie'),\n",
       " ('2009-01-24 00:00:00', 'CD Numancia', 'Barcelona win!'),\n",
       " ('2009-02-08 00:00:00', 'Real Sporting de Gijón', 'Barcelona win!'),\n",
       " ('2009-02-21 00:00:00', 'RCD Espanyol', 'Barcelona loss :(')]"
      ]
     },
     "execution_count": 40,
     "metadata": {},
     "output_type": "execute_result"
    }
   ],
   "source": [
    "%%sql\n",
    "SELECT \n",
    "\tm.date,\n",
    "\tt.team_long_name AS opponent,\n",
    "    -- Complete the CASE statement with an alias\n",
    "\tCASE WHEN m.home_goal > m.away_goal THEN 'Barcelona win!'\n",
    "        WHEN m.home_goal < m.away_goal THEN 'Barcelona loss :(' \n",
    "        ELSE 'Tie' END AS outcome \n",
    "FROM Match AS m\n",
    "LEFT JOIN Team AS t \n",
    "ON m.awayteam_id = t.team_api_id\n",
    "-- Filter for Barcelona as the home team\n",
    "WHERE m.hometeam_id = 8634\n",
    "LIMIT 10; "
   ]
  },
  {
   "cell_type": "code",
   "execution_count": 18,
   "metadata": {},
   "outputs": [
    {
     "name": "stdout",
     "output_type": "stream",
     "text": [
      " * sqlite:///database.sqlite\n",
      "Done.\n"
     ]
    },
    {
     "data": {
      "text/html": [
       "<table>\n",
       "    <tr>\n",
       "        <th>date</th>\n",
       "        <th>opponent</th>\n",
       "        <th>outcome</th>\n",
       "    </tr>\n",
       "    <tr>\n",
       "        <td>2008-08-31 00:00:00</td>\n",
       "        <td>CD Numancia</td>\n",
       "        <td>Barcelona loss :(</td>\n",
       "    </tr>\n",
       "    <tr>\n",
       "        <td>2008-11-16 00:00:00</td>\n",
       "        <td>RC Recreativo</td>\n",
       "        <td>Barcelona win!</td>\n",
       "    </tr>\n",
       "    <tr>\n",
       "        <td>2008-11-29 00:00:00</td>\n",
       "        <td>Sevilla FC</td>\n",
       "        <td>Barcelona win!</td>\n",
       "    </tr>\n",
       "    <tr>\n",
       "        <td>2008-12-21 00:00:00</td>\n",
       "        <td>Villarreal CF</td>\n",
       "        <td>Barcelona win!</td>\n",
       "    </tr>\n",
       "    <tr>\n",
       "        <td>2009-01-11 00:00:00</td>\n",
       "        <td>CA Osasuna</td>\n",
       "        <td>Barcelona win!</td>\n",
       "    </tr>\n",
       "    <tr>\n",
       "        <td>2009-02-01 00:00:00</td>\n",
       "        <td>Racing Santander</td>\n",
       "        <td>Barcelona win!</td>\n",
       "    </tr>\n",
       "    <tr>\n",
       "        <td>2009-02-14 00:00:00</td>\n",
       "        <td>Real Betis Balompié</td>\n",
       "        <td>Tie</td>\n",
       "    </tr>\n",
       "    <tr>\n",
       "        <td>2009-03-01 00:00:00</td>\n",
       "        <td>Atlético Madrid</td>\n",
       "        <td>Barcelona loss :(</td>\n",
       "    </tr>\n",
       "    <tr>\n",
       "        <td>2009-03-15 00:00:00</td>\n",
       "        <td>UD Almería</td>\n",
       "        <td>Barcelona win!</td>\n",
       "    </tr>\n",
       "    <tr>\n",
       "        <td>2009-04-04 00:00:00</td>\n",
       "        <td>Real Valladolid</td>\n",
       "        <td>Barcelona win!</td>\n",
       "    </tr>\n",
       "</table>"
      ],
      "text/plain": [
       "[('2008-08-31 00:00:00', 'CD Numancia', 'Barcelona loss :('),\n",
       " ('2008-11-16 00:00:00', 'RC Recreativo', 'Barcelona win!'),\n",
       " ('2008-11-29 00:00:00', 'Sevilla FC', 'Barcelona win!'),\n",
       " ('2008-12-21 00:00:00', 'Villarreal CF', 'Barcelona win!'),\n",
       " ('2009-01-11 00:00:00', 'CA Osasuna', 'Barcelona win!'),\n",
       " ('2009-02-01 00:00:00', 'Racing Santander', 'Barcelona win!'),\n",
       " ('2009-02-14 00:00:00', 'Real Betis Balompié', 'Tie'),\n",
       " ('2009-03-01 00:00:00', 'Atlético Madrid', 'Barcelona loss :('),\n",
       " ('2009-03-15 00:00:00', 'UD Almería', 'Barcelona win!'),\n",
       " ('2009-04-04 00:00:00', 'Real Valladolid', 'Barcelona win!')]"
      ]
     },
     "execution_count": 18,
     "metadata": {},
     "output_type": "execute_result"
    }
   ],
   "source": [
    "%%sql\n",
    "\n",
    "SELECT  \n",
    "    m.date,\n",
    "    t.team_long_name AS opponent,\n",
    "    CASE WHEN m.home_goal < m.away_goal THEN 'Barcelona win!'\n",
    "        WHEN m.home_goal > m.away_goal THEN 'Barcelona loss :(' \n",
    "        ELSE 'Tie' END AS outcome\n",
    "FROM Match AS m\n",
    "LEFT JOIN Team AS t \n",
    "ON m.hometeam_id = t.team_api_id\n",
    "WHERE m.awayteam_id = 8634\n",
    "LIMiT 10"
   ]
  },
  {
   "cell_type": "code",
   "execution_count": 20,
   "metadata": {},
   "outputs": [
    {
     "name": "stdout",
     "output_type": "stream",
     "text": [
      " * sqlite:///database.sqlite\n",
      "Done.\n"
     ]
    },
    {
     "data": {
      "text/html": [
       "<table>\n",
       "    <tr>\n",
       "        <th>date</th>\n",
       "        <th>home</th>\n",
       "        <th>away</th>\n",
       "    </tr>\n",
       "    <tr>\n",
       "        <td>2008-12-13 00:00:00</td>\n",
       "        <td>FC Barcelona</td>\n",
       "        <td>Real Madrid CF</td>\n",
       "    </tr>\n",
       "    <tr>\n",
       "        <td>2009-05-02 00:00:00</td>\n",
       "        <td>Real Madrid CF</td>\n",
       "        <td>FC Barcelona</td>\n",
       "    </tr>\n",
       "    <tr>\n",
       "        <td>2009-11-29 00:00:00</td>\n",
       "        <td>FC Barcelona</td>\n",
       "        <td>Real Madrid CF</td>\n",
       "    </tr>\n",
       "    <tr>\n",
       "        <td>2010-04-10 00:00:00</td>\n",
       "        <td>Real Madrid CF</td>\n",
       "        <td>FC Barcelona</td>\n",
       "    </tr>\n",
       "    <tr>\n",
       "        <td>2010-11-29 00:00:00</td>\n",
       "        <td>FC Barcelona</td>\n",
       "        <td>Real Madrid CF</td>\n",
       "    </tr>\n",
       "    <tr>\n",
       "        <td>2011-04-16 00:00:00</td>\n",
       "        <td>Real Madrid CF</td>\n",
       "        <td>FC Barcelona</td>\n",
       "    </tr>\n",
       "    <tr>\n",
       "        <td>2011-12-10 00:00:00</td>\n",
       "        <td>Real Madrid CF</td>\n",
       "        <td>FC Barcelona</td>\n",
       "    </tr>\n",
       "    <tr>\n",
       "        <td>2012-04-21 00:00:00</td>\n",
       "        <td>FC Barcelona</td>\n",
       "        <td>Real Madrid CF</td>\n",
       "    </tr>\n",
       "    <tr>\n",
       "        <td>2013-03-02 00:00:00</td>\n",
       "        <td>Real Madrid CF</td>\n",
       "        <td>FC Barcelona</td>\n",
       "    </tr>\n",
       "    <tr>\n",
       "        <td>2012-10-07 00:00:00</td>\n",
       "        <td>FC Barcelona</td>\n",
       "        <td>Real Madrid CF</td>\n",
       "    </tr>\n",
       "    <tr>\n",
       "        <td>2013-10-26 00:00:00</td>\n",
       "        <td>FC Barcelona</td>\n",
       "        <td>Real Madrid CF</td>\n",
       "    </tr>\n",
       "    <tr>\n",
       "        <td>2014-03-23 00:00:00</td>\n",
       "        <td>Real Madrid CF</td>\n",
       "        <td>FC Barcelona</td>\n",
       "    </tr>\n",
       "    <tr>\n",
       "        <td>2015-03-22 00:00:00</td>\n",
       "        <td>FC Barcelona</td>\n",
       "        <td>Real Madrid CF</td>\n",
       "    </tr>\n",
       "    <tr>\n",
       "        <td>2014-10-25 00:00:00</td>\n",
       "        <td>Real Madrid CF</td>\n",
       "        <td>FC Barcelona</td>\n",
       "    </tr>\n",
       "    <tr>\n",
       "        <td>2015-11-21 00:00:00</td>\n",
       "        <td>Real Madrid CF</td>\n",
       "        <td>FC Barcelona</td>\n",
       "    </tr>\n",
       "    <tr>\n",
       "        <td>2016-04-02 00:00:00</td>\n",
       "        <td>FC Barcelona</td>\n",
       "        <td>Real Madrid CF</td>\n",
       "    </tr>\n",
       "</table>"
      ],
      "text/plain": [
       "[('2008-12-13 00:00:00', 'FC Barcelona', 'Real Madrid CF'),\n",
       " ('2009-05-02 00:00:00', 'Real Madrid CF', 'FC Barcelona'),\n",
       " ('2009-11-29 00:00:00', 'FC Barcelona', 'Real Madrid CF'),\n",
       " ('2010-04-10 00:00:00', 'Real Madrid CF', 'FC Barcelona'),\n",
       " ('2010-11-29 00:00:00', 'FC Barcelona', 'Real Madrid CF'),\n",
       " ('2011-04-16 00:00:00', 'Real Madrid CF', 'FC Barcelona'),\n",
       " ('2011-12-10 00:00:00', 'Real Madrid CF', 'FC Barcelona'),\n",
       " ('2012-04-21 00:00:00', 'FC Barcelona', 'Real Madrid CF'),\n",
       " ('2013-03-02 00:00:00', 'Real Madrid CF', 'FC Barcelona'),\n",
       " ('2012-10-07 00:00:00', 'FC Barcelona', 'Real Madrid CF'),\n",
       " ('2013-10-26 00:00:00', 'FC Barcelona', 'Real Madrid CF'),\n",
       " ('2014-03-23 00:00:00', 'Real Madrid CF', 'FC Barcelona'),\n",
       " ('2015-03-22 00:00:00', 'FC Barcelona', 'Real Madrid CF'),\n",
       " ('2014-10-25 00:00:00', 'Real Madrid CF', 'FC Barcelona'),\n",
       " ('2015-11-21 00:00:00', 'Real Madrid CF', 'FC Barcelona'),\n",
       " ('2016-04-02 00:00:00', 'FC Barcelona', 'Real Madrid CF')]"
      ]
     },
     "execution_count": 20,
     "metadata": {},
     "output_type": "execute_result"
    }
   ],
   "source": [
    "%%sql\n",
    "SELECT \n",
    "    date,\n",
    "    -- Identify the home team as Barcelona or Real Madrid\n",
    "    CASE WHEN hometeam_id = 8634 THEN 'FC Barcelona' \n",
    "        ELSE 'Real Madrid CF' END AS home,\n",
    "    -- Identify the away team as Barcelona or Real Madrid\n",
    "    CASE WHEN awayteam_id = 8634 THEN 'FC Barcelona' \n",
    "        ELSE 'Real Madrid CF' END AS away\n",
    "FROM Match\n",
    "WHERE (awayteam_id = 8634 OR hometeam_id = 8634)\n",
    "      AND (awayteam_id = 8633 OR hometeam_id = 8633);"
   ]
  },
  {
   "cell_type": "markdown",
   "metadata": {},
   "source": [
    "### Filtering CASE statement"
   ]
  },
  {
   "cell_type": "code",
   "execution_count": 23,
   "metadata": {},
   "outputs": [
    {
     "name": "stdout",
     "output_type": "stream",
     "text": [
      " * sqlite:///database.sqlite\n",
      "Done.\n"
     ]
    },
    {
     "data": {
      "text/html": [
       "<table>\n",
       "    <tr>\n",
       "        <th>team_long_name</th>\n",
       "        <th>team_api_id</th>\n",
       "    </tr>\n",
       "    <tr>\n",
       "        <td>Bologna</td>\n",
       "        <td>9857</td>\n",
       "    </tr>\n",
       "</table>"
      ],
      "text/plain": [
       "[('Bologna', 9857)]"
      ]
     },
     "execution_count": 23,
     "metadata": {},
     "output_type": "execute_result"
    }
   ],
   "source": [
    "%%sql\n",
    "SELECT\n",
    "    team_long_name,\n",
    "    team_api_id\n",
    "FROM Team\n",
    "-- Filter for team name\n",
    "WHERE team_long_name = 'Bologna';"
   ]
  },
  {
   "cell_type": "code",
   "execution_count": 26,
   "metadata": {},
   "outputs": [
    {
     "name": "stdout",
     "output_type": "stream",
     "text": [
      " * sqlite:///database.sqlite\n",
      "Done.\n"
     ]
    },
    {
     "data": {
      "text/html": [
       "<table>\n",
       "    <tr>\n",
       "        <th>season</th>\n",
       "        <th>date</th>\n",
       "        <th>home_goal</th>\n",
       "        <th>away_goal</th>\n",
       "    </tr>\n",
       "    <tr>\n",
       "        <td>2008/2009</td>\n",
       "        <td>2008-08-31 00:00:00</td>\n",
       "        <td>1</td>\n",
       "        <td>2</td>\n",
       "    </tr>\n",
       "    <tr>\n",
       "        <td>2008/2009</td>\n",
       "        <td>2008-12-13 00:00:00</td>\n",
       "        <td>5</td>\n",
       "        <td>2</td>\n",
       "    </tr>\n",
       "    <tr>\n",
       "        <td>2008/2009</td>\n",
       "        <td>2009-01-18 00:00:00</td>\n",
       "        <td>1</td>\n",
       "        <td>2</td>\n",
       "    </tr>\n",
       "    <tr>\n",
       "        <td>2008/2009</td>\n",
       "        <td>2009-01-28 00:00:00</td>\n",
       "        <td>0</td>\n",
       "        <td>1</td>\n",
       "    </tr>\n",
       "    <tr>\n",
       "        <td>2008/2009</td>\n",
       "        <td>2009-03-08 00:00:00</td>\n",
       "        <td>3</td>\n",
       "        <td>0</td>\n",
       "    </tr>\n",
       "    <tr>\n",
       "        <td>2008/2009</td>\n",
       "        <td>2009-04-26 00:00:00</td>\n",
       "        <td>2</td>\n",
       "        <td>0</td>\n",
       "    </tr>\n",
       "    <tr>\n",
       "        <td>2008/2009</td>\n",
       "        <td>2009-05-17 00:00:00</td>\n",
       "        <td>2</td>\n",
       "        <td>1</td>\n",
       "    </tr>\n",
       "    <tr>\n",
       "        <td>2008/2009</td>\n",
       "        <td>2009-05-31 00:00:00</td>\n",
       "        <td>3</td>\n",
       "        <td>1</td>\n",
       "    </tr>\n",
       "    <tr>\n",
       "        <td>2008/2009</td>\n",
       "        <td>2008-10-19 00:00:00</td>\n",
       "        <td>3</td>\n",
       "        <td>1</td>\n",
       "    </tr>\n",
       "    <tr>\n",
       "        <td>2009/2010</td>\n",
       "        <td>2009-10-28 00:00:00</td>\n",
       "        <td>2</td>\n",
       "        <td>1</td>\n",
       "    </tr>\n",
       "</table>"
      ],
      "text/plain": [
       "[('2008/2009', '2008-08-31 00:00:00', 1, 2),\n",
       " ('2008/2009', '2008-12-13 00:00:00', 5, 2),\n",
       " ('2008/2009', '2009-01-18 00:00:00', 1, 2),\n",
       " ('2008/2009', '2009-01-28 00:00:00', 0, 1),\n",
       " ('2008/2009', '2009-03-08 00:00:00', 3, 0),\n",
       " ('2008/2009', '2009-04-26 00:00:00', 2, 0),\n",
       " ('2008/2009', '2009-05-17 00:00:00', 2, 1),\n",
       " ('2008/2009', '2009-05-31 00:00:00', 3, 1),\n",
       " ('2008/2009', '2008-10-19 00:00:00', 3, 1),\n",
       " ('2009/2010', '2009-10-28 00:00:00', 2, 1)]"
      ]
     },
     "execution_count": 26,
     "metadata": {},
     "output_type": "execute_result"
    }
   ],
   "source": [
    "%%sql\n",
    "-- Select the season, date, home_goal, and away_goal columns\n",
    "SELECT \n",
    "    season,\n",
    "    date,\n",
    "    home_goal,\n",
    "    away_goal\n",
    "FROM Match\n",
    "WHERE \n",
    "-- Exclude games not won by Bologna\n",
    "    CASE WHEN hometeam_id = 9857 AND home_goal > away_goal THEN 'Bologna Win'\n",
    "        WHEN awayteam_id = 9857 AND away_goal > home_goal THEN 'Bologna Win' \n",
    "        END IS NOT NULL\n",
    "LIMIT 10"
   ]
  },
  {
   "cell_type": "markdown",
   "metadata": {},
   "source": [
    "### COUNT using CASE WHEN"
   ]
  },
  {
   "cell_type": "code",
   "execution_count": 27,
   "metadata": {},
   "outputs": [
    {
     "name": "stdout",
     "output_type": "stream",
     "text": [
      " * sqlite:///database.sqlite\n",
      "Done.\n"
     ]
    },
    {
     "data": {
      "text/html": [
       "<table>\n",
       "    <tr>\n",
       "        <th>country</th>\n",
       "        <th>matches_2012_2013</th>\n",
       "    </tr>\n",
       "    <tr>\n",
       "        <td>Belgium</td>\n",
       "        <td>240</td>\n",
       "    </tr>\n",
       "    <tr>\n",
       "        <td>England</td>\n",
       "        <td>380</td>\n",
       "    </tr>\n",
       "    <tr>\n",
       "        <td>France</td>\n",
       "        <td>380</td>\n",
       "    </tr>\n",
       "    <tr>\n",
       "        <td>Germany</td>\n",
       "        <td>306</td>\n",
       "    </tr>\n",
       "    <tr>\n",
       "        <td>Italy</td>\n",
       "        <td>380</td>\n",
       "    </tr>\n",
       "    <tr>\n",
       "        <td>Netherlands</td>\n",
       "        <td>306</td>\n",
       "    </tr>\n",
       "    <tr>\n",
       "        <td>Poland</td>\n",
       "        <td>240</td>\n",
       "    </tr>\n",
       "    <tr>\n",
       "        <td>Portugal</td>\n",
       "        <td>240</td>\n",
       "    </tr>\n",
       "    <tr>\n",
       "        <td>Scotland</td>\n",
       "        <td>228</td>\n",
       "    </tr>\n",
       "    <tr>\n",
       "        <td>Spain</td>\n",
       "        <td>380</td>\n",
       "    </tr>\n",
       "    <tr>\n",
       "        <td>Switzerland</td>\n",
       "        <td>180</td>\n",
       "    </tr>\n",
       "</table>"
      ],
      "text/plain": [
       "[('Belgium', 240),\n",
       " ('England', 380),\n",
       " ('France', 380),\n",
       " ('Germany', 306),\n",
       " ('Italy', 380),\n",
       " ('Netherlands', 306),\n",
       " ('Poland', 240),\n",
       " ('Portugal', 240),\n",
       " ('Scotland', 228),\n",
       " ('Spain', 380),\n",
       " ('Switzerland', 180)]"
      ]
     },
     "execution_count": 27,
     "metadata": {},
     "output_type": "execute_result"
    }
   ],
   "source": [
    "%%sql\n",
    "SELECT \n",
    "\tc.name AS country,\n",
    "    -- Count games from the 2012/2013 season\n",
    "\tCOUNT(CASE WHEN m.season = '2012/2013' \n",
    "          \t   THEN m.id ELSE NULL END) AS matches_2012_2013\n",
    "FROM country AS c\n",
    "LEFT JOIN match AS m\n",
    "ON c.id = m.country_id\n",
    "-- Group by country name alias\n",
    "GROUP BY country;"
   ]
  },
  {
   "cell_type": "code",
   "execution_count": 41,
   "metadata": {},
   "outputs": [
    {
     "name": "stdout",
     "output_type": "stream",
     "text": [
      " * sqlite:///database.sqlite\n",
      "Done.\n"
     ]
    },
    {
     "data": {
      "text/html": [
       "<table>\n",
       "    <tr>\n",
       "        <th>country</th>\n",
       "        <th>matches_2012_2013</th>\n",
       "        <th>matches_2013_2014</th>\n",
       "        <th>matches_2014_2015</th>\n",
       "    </tr>\n",
       "    <tr>\n",
       "        <td>Belgium</td>\n",
       "        <td>102</td>\n",
       "        <td>6</td>\n",
       "        <td>106</td>\n",
       "    </tr>\n",
       "    <tr>\n",
       "        <td>England</td>\n",
       "        <td>166</td>\n",
       "        <td>179</td>\n",
       "        <td>172</td>\n",
       "    </tr>\n",
       "    <tr>\n",
       "        <td>France</td>\n",
       "        <td>170</td>\n",
       "        <td>168</td>\n",
       "        <td>181</td>\n",
       "    </tr>\n",
       "    <tr>\n",
       "        <td>Germany</td>\n",
       "        <td>130</td>\n",
       "        <td>145</td>\n",
       "        <td>145</td>\n",
       "    </tr>\n",
       "    <tr>\n",
       "        <td>Italy</td>\n",
       "        <td>177</td>\n",
       "        <td>181</td>\n",
       "        <td>152</td>\n",
       "    </tr>\n",
       "    <tr>\n",
       "        <td>Netherlands</td>\n",
       "        <td>137</td>\n",
       "        <td>144</td>\n",
       "        <td>138</td>\n",
       "    </tr>\n",
       "    <tr>\n",
       "        <td>Poland</td>\n",
       "        <td>97</td>\n",
       "        <td>110</td>\n",
       "        <td>114</td>\n",
       "    </tr>\n",
       "    <tr>\n",
       "        <td>Portugal</td>\n",
       "        <td>103</td>\n",
       "        <td>108</td>\n",
       "        <td>137</td>\n",
       "    </tr>\n",
       "    <tr>\n",
       "        <td>Scotland</td>\n",
       "        <td>89</td>\n",
       "        <td>102</td>\n",
       "        <td>102</td>\n",
       "    </tr>\n",
       "    <tr>\n",
       "        <td>Spain</td>\n",
       "        <td>189</td>\n",
       "        <td>179</td>\n",
       "        <td>171</td>\n",
       "    </tr>\n",
       "    <tr>\n",
       "        <td>Switzerland</td>\n",
       "        <td>84</td>\n",
       "        <td>82</td>\n",
       "        <td>76</td>\n",
       "    </tr>\n",
       "</table>"
      ],
      "text/plain": [
       "[('Belgium', 102, 6, 106),\n",
       " ('England', 166, 179, 172),\n",
       " ('France', 170, 168, 181),\n",
       " ('Germany', 130, 145, 145),\n",
       " ('Italy', 177, 181, 152),\n",
       " ('Netherlands', 137, 144, 138),\n",
       " ('Poland', 97, 110, 114),\n",
       " ('Portugal', 103, 108, 137),\n",
       " ('Scotland', 89, 102, 102),\n",
       " ('Spain', 189, 179, 171),\n",
       " ('Switzerland', 84, 82, 76)]"
      ]
     },
     "execution_count": 41,
     "metadata": {},
     "output_type": "execute_result"
    }
   ],
   "source": [
    "%%sql\n",
    "SELECT \n",
    "    c.name AS country,\n",
    "    -- Sum the total records in each season where the home team won\n",
    "    SUM(CASE WHEN m.season = '2012/2013' AND m.home_goal > m.away_goal \n",
    "        THEN 1 ELSE 0 END) AS matches_2012_2013,\n",
    "    SUM(CASE WHEN m.season = '2013/2014' AND m.home_goal > m.away_goal\n",
    "        THEN 1 ELSE 0 END) AS matches_2013_2014,\n",
    "    SUM(CASE WHEN m.season = '2014/2015' AND m.home_goal > m.away_goal\n",
    "        THEN 1 ELSE 0 END) AS matches_2014_2015\n",
    "FROM country AS c\n",
    "LEFT JOIN match AS m\n",
    "ON c.id = m.country_id\n",
    "-- Group by country name alias\n",
    "GROUP BY c.name;"
   ]
  },
  {
   "cell_type": "code",
   "execution_count": 34,
   "metadata": {},
   "outputs": [
    {
     "name": "stdout",
     "output_type": "stream",
     "text": [
      " * sqlite:///database.sqlite\n",
      "Done.\n"
     ]
    },
    {
     "data": {
      "text/html": [
       "<table>\n",
       "    <tr>\n",
       "        <th>country</th>\n",
       "        <th>home_wins</th>\n",
       "        <th>away_wins</th>\n",
       "        <th>ties</th>\n",
       "    </tr>\n",
       "    <tr>\n",
       "        <td>Belgium</td>\n",
       "        <td>810</td>\n",
       "        <td>493</td>\n",
       "        <td>425</td>\n",
       "    </tr>\n",
       "    <tr>\n",
       "        <td>England</td>\n",
       "        <td>1390</td>\n",
       "        <td>867</td>\n",
       "        <td>783</td>\n",
       "    </tr>\n",
       "    <tr>\n",
       "        <td>France</td>\n",
       "        <td>1359</td>\n",
       "        <td>822</td>\n",
       "        <td>859</td>\n",
       "    </tr>\n",
       "    <tr>\n",
       "        <td>Germany</td>\n",
       "        <td>1107</td>\n",
       "        <td>744</td>\n",
       "        <td>597</td>\n",
       "    </tr>\n",
       "    <tr>\n",
       "        <td>Italy</td>\n",
       "        <td>1407</td>\n",
       "        <td>814</td>\n",
       "        <td>796</td>\n",
       "    </tr>\n",
       "    <tr>\n",
       "        <td>Netherlands</td>\n",
       "        <td>1171</td>\n",
       "        <td>696</td>\n",
       "        <td>581</td>\n",
       "    </tr>\n",
       "    <tr>\n",
       "        <td>Poland</td>\n",
       "        <td>870</td>\n",
       "        <td>525</td>\n",
       "        <td>525</td>\n",
       "    </tr>\n",
       "    <tr>\n",
       "        <td>Portugal</td>\n",
       "        <td>908</td>\n",
       "        <td>611</td>\n",
       "        <td>533</td>\n",
       "    </tr>\n",
       "    <tr>\n",
       "        <td>Scotland</td>\n",
       "        <td>760</td>\n",
       "        <td>617</td>\n",
       "        <td>447</td>\n",
       "    </tr>\n",
       "    <tr>\n",
       "        <td>Spain</td>\n",
       "        <td>1485</td>\n",
       "        <td>851</td>\n",
       "        <td>704</td>\n",
       "    </tr>\n",
       "    <tr>\n",
       "        <td>Switzerland</td>\n",
       "        <td>650</td>\n",
       "        <td>426</td>\n",
       "        <td>346</td>\n",
       "    </tr>\n",
       "</table>"
      ],
      "text/plain": [
       "[('Belgium', 810, 493, 425),\n",
       " ('England', 1390, 867, 783),\n",
       " ('France', 1359, 822, 859),\n",
       " ('Germany', 1107, 744, 597),\n",
       " ('Italy', 1407, 814, 796),\n",
       " ('Netherlands', 1171, 696, 581),\n",
       " ('Poland', 870, 525, 525),\n",
       " ('Portugal', 908, 611, 533),\n",
       " ('Scotland', 760, 617, 447),\n",
       " ('Spain', 1485, 851, 704),\n",
       " ('Switzerland', 650, 426, 346)]"
      ]
     },
     "execution_count": 34,
     "metadata": {},
     "output_type": "execute_result"
    }
   ],
   "source": [
    "%%sql\n",
    "SELECT \n",
    "    c.name AS country,\n",
    "    -- Count the home wins, away wins, and ties in each country\n",
    "\tCOUNT(CASE WHEN m.home_goal > m.away_goal THEN m.id \n",
    "        END) AS home_wins,\n",
    "\tCOUNT(CASE WHEN m.home_goal < m.away_goal THEN m.id \n",
    "        END) AS away_wins,\n",
    "\tCOUNT(CASE WHEN m.home_goal = m.away_goal THEN m.id \n",
    "        END) AS ties\n",
    "FROM country AS c\n",
    "LEFT JOIN Match AS m\n",
    "ON c.id = m.country_id\n",
    "GROUP BY country;"
   ]
  }
 ],
 "metadata": {
  "hide_input": false,
  "kernelspec": {
   "display_name": "Python 3",
   "language": "python",
   "name": "python3"
  },
  "language_info": {
   "codemirror_mode": {
    "name": "ipython",
    "version": 3
   },
   "file_extension": ".py",
   "mimetype": "text/x-python",
   "name": "python",
   "nbconvert_exporter": "python",
   "pygments_lexer": "ipython3",
   "version": "3.7.6"
  }
 },
 "nbformat": 4,
 "nbformat_minor": 4
}
